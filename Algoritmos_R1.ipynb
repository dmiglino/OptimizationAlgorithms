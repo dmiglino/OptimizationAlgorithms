{
 "cells": [
  {
   "cell_type": "markdown",
   "metadata": {
    "id": "kQn6fbhgtH9I"
   },
   "source": [
    "# Algoritmos de optimización - Reto 1\n",
    "\n",
    "Nombre: Diego Miglino<br>\n",
    "Github: https://github.com/dmiglino/OptimizationAlgorithms.git<br>"
   ]
  },
  {
   "cell_type": "markdown",
   "metadata": {
    "id": "_t62Ge7ZuKnC"
   },
   "source": [
    "## Torres de Hanoi con Divide y vencerás\n",
    "\n",
    "Resuelve el problema de las [Torres de Hanoi](https://es.wikipedia.org/wiki/Torres_de_Han%C3%B3i) para un número arbitrario de fichas utilizando la técnica de divide y vencerás. "
   ]
  },
  {
   "cell_type": "code",
   "execution_count": 90,
   "metadata": {
    "colab": {
     "base_uri": "https://localhost:8080/"
    },
    "id": "i32G0CUQvauE",
    "outputId": "c3398cec-661d-46a5-b9db-0a0ad168f64a"
   },
   "outputs": [
    {
     "name": "stdout",
     "output_type": "stream",
     "text": [
      "Mover disco 1 de 1 a 3\n",
      "Mover disco 2 de 1 a 2\n",
      "Mover disco 1 de 3 a 2\n",
      "Mover disco 3 de 1 a 3\n",
      "Mover disco 1 de 2 a 1\n",
      "Mover disco 2 de 2 a 3\n",
      "Mover disco 1 de 1 a 3\n",
      "\n",
      "Mover disco 1 de 1 a 2\n",
      "Mover disco 2 de 1 a 3\n",
      "Mover disco 1 de 2 a 3\n",
      "Mover disco 3 de 1 a 2\n",
      "Mover disco 1 de 3 a 1\n",
      "Mover disco 2 de 3 a 2\n",
      "Mover disco 1 de 1 a 2\n",
      "Mover disco 4 de 1 a 3\n",
      "Mover disco 1 de 2 a 3\n",
      "Mover disco 2 de 2 a 1\n",
      "Mover disco 1 de 3 a 1\n",
      "Mover disco 3 de 2 a 3\n",
      "Mover disco 1 de 1 a 2\n",
      "Mover disco 2 de 1 a 3\n",
      "Mover disco 1 de 2 a 3\n"
     ]
    }
   ],
   "source": [
    "# Torres de Hanoi\n"
   ]
  },
  {
   "cell_type": "markdown",
   "metadata": {},
   "source": [
    "## Sucesión de Fibonacci\n",
    "\n",
    "Cálcula el n-ésimo término de la [Sucesión de Fibonacci](https://es.wikipedia.org/wiki/Sucesi%C3%B3n_de_Fibonacci) mediante un algoritmo recursivo y otro iterativo. Representa gráficamente cómo crece el tiempo de cómputo en función del número de términos para ambos algoritmos. "
   ]
  },
  {
   "cell_type": "code",
   "execution_count": 24,
   "metadata": {
    "colab": {
     "base_uri": "https://localhost:8080/"
    },
    "id": "74qZZAekiNYR",
    "outputId": "acc17268-7f87-4de4-ae5a-4fc6ce09d385"
   },
   "outputs": [],
   "source": [
    "#Sucesión_de_Fibonacci utilizando recursividad\n",
    "def fibonacci_recursivo(n):\n",
    "    if n < 0:\n",
    "        print(\"El parametro debe ser positivo\")\n",
    "    elif n == 0:\n",
    "        return 0\n",
    "    elif n == 1 or n ==2:\n",
    "        return 1\n",
    "    else:\n",
    "        return fibonacci_recursivo(n-1) + fibonacci_recursivo(n-2)\n",
    "\n",
    "#Sucesión_de_Fibonacci de forma iterativa\n",
    "def fibonacci_iterativo(n):\n",
    "    if n < 0:\n",
    "        print(\"El parametro debe ser positivo\")\n",
    "    elif n == 0:\n",
    "        return 0\n",
    "    elif n == 1 or n == 2:\n",
    "        return 1\n",
    "    \n",
    "    # a y b contendrán los dos últimos valores de Fibonacci\n",
    "    a, b = 1, 1\n",
    "    # Itero desde el 3 hasta n (inclusive)\n",
    "    for i in range(3, n + 1):\n",
    "        c = a + b\n",
    "        a = b\n",
    "        b = c\n",
    "    \n",
    "    return b \n",
    "\n",
    "#Sucesión_de_Fibonacci utilizando recursividad y memoizacion\n",
    "def fibonacci_memoizado(memo, n):\n",
    "    if n in memo:\n",
    "        return memo[n]\n",
    "        \n",
    "    if n < 0:\n",
    "        print(\"El parametro debe ser positivo\")\n",
    "    elif n == 0:\n",
    "        memo[n] = 0\n",
    "        return 0\n",
    "    elif n == 1 or n ==2:\n",
    "        memo[n] = 1\n",
    "        return 1\n",
    "    else:\n",
    "        memo[n] = fibonacci_memoizado(memo, n-1) + fibonacci_memoizado(memo, n-2)\n",
    "        return memo[n]"
   ]
  },
  {
   "cell_type": "code",
   "execution_count": 72,
   "metadata": {
    "colab": {
     "base_uri": "https://localhost:8080/"
    },
    "id": "74qZZAekiNYR",
    "outputId": "acc17268-7f87-4de4-ae5a-4fc6ce09d385"
   },
   "outputs": [
    {
     "name": "stdout",
     "output_type": "stream",
     "text": [
      "[6765]\n",
      "[9227465]\n",
      "Tiempo de ejecucion con RECURSIVIDAD: 5.450871706008911 segundos.\n",
      "[6765]\n",
      "[9227465]\n",
      "Tiempo de ejecucion ITERATIVAMENTE: 0.0002295970916748047 segundos.\n",
      "[6765]\n",
      "[9227465]\n",
      "Tiempo de ejecucion MEMOIZADA: 0.0003306865692138672 segundos.\n"
     ]
    }
   ],
   "source": [
    "import time\n",
    "\n",
    "# Valores a calcular su fibonacci\n",
    "numeros_1 = [20]#, 31, 32, 33, 34, 35, 36, 37]\n",
    "numeros_2 = [35]#, 31, 32, 33, 34, 35, 36, 37]\n",
    "numeros_3 = [100]#, 31, 32, 33, 34, 35, 36, 37]\n",
    "numeros_4 = [2000]#, 31, 32, 33, 34, 35, 36, 37]\n",
    "\n",
    "# Prueba de tiempos de ejecucion utilizando recursividad\n",
    "start_time = time.time()\n",
    "resultados_sec = [fibonacci_recursivo(n) for n in numeros_1]\n",
    "print(resultados_sec)\n",
    "tiempo_recursivo_1 = (time.time() - start_time)\n",
    "\n",
    "start_time = time.time()\n",
    "resultados_sec = [fibonacci_recursivo(n) for n in numeros_2]\n",
    "print(resultados_sec)\n",
    "tiempo_recursivo_2 = (time.time() - start_time)\n",
    "\n",
    "print(\"Tiempo de ejecucion con RECURSIVIDAD: %s segundos.\" % (tiempo_recursivo_2))\n",
    "\n",
    "# Prueba de tiempos de ejecucion utilizando recursividad\n",
    "start_time = time.time()\n",
    "resultados_sec = [fibonacci_iterativo(n) for n in numeros_1]\n",
    "print(resultados_sec)\n",
    "tiempo_iterativo_1 = (time.time() - start_time)\n",
    "\n",
    "start_time = time.time()\n",
    "resultados_sec = [fibonacci_iterativo(n) for n in numeros_2]\n",
    "print(resultados_sec)\n",
    "tiempo_iterativo_2 = (time.time() - start_time)\n",
    "\n",
    "start_time = time.time()\n",
    "resultados_sec = [fibonacci_iterativo(n) for n in numeros_3]\n",
    "tiempo_iterativo_3 = (time.time() - start_time)\n",
    "\n",
    "start_time = time.time()\n",
    "resultados_sec = [fibonacci_iterativo(n) for n in numeros_4]\n",
    "tiempo_iterativo_4 = (time.time() - start_time)\n",
    "\n",
    "print(\"Tiempo de ejecucion ITERATIVAMENTE: %s segundos.\" % (tiempo_iterativo_3))\n",
    "\n",
    "# Prueba de tiempos de ejecucion utilizando memoizacion\n",
    "memo = {}\n",
    "start_time = time.time()\n",
    "resultados_sec = [fibonacci_memoizado(memo, n) for n in numeros_1]\n",
    "print(resultados_sec)\n",
    "tiempo_memoizado_1 = (time.time() - start_time)\n",
    "\n",
    "start_time = time.time()\n",
    "resultados_sec = [fibonacci_memoizado({}, n) for n in numeros_2]\n",
    "print(resultados_sec)\n",
    "tiempo_memoizado_2 = (time.time() - start_time)\n",
    "\n",
    "start_time = time.time()\n",
    "resultados_sec = [fibonacci_memoizado({}, n) for n in numeros_3]\n",
    "tiempo_memoizado_3 = (time.time() - start_time)\n",
    "\n",
    "start_time = time.time()\n",
    "resultados_sec = [fibonacci_memoizado({}, n) for n in numeros_4]\n",
    "tiempo_memoizado_4 = (time.time() - start_time)\n",
    "\n",
    "print(\"Tiempo de ejecucion MEMOIZADA: %s segundos.\" % (tiempo_memoizado_3))"
   ]
  },
  {
   "cell_type": "code",
   "execution_count": 73,
   "metadata": {
    "colab": {
     "base_uri": "https://localhost:8080/"
    },
    "id": "74qZZAekiNYR",
    "outputId": "acc17268-7f87-4de4-ae5a-4fc6ce09d385"
   },
   "outputs": [
    {
     "data": {
      "image/png": "[encoded data removed]",
      "text/plain": [
       "<Figure size 1400x1000 with 4 Axes>"
      ]
     },
     "metadata": {},
     "output_type": "display_data"
    }
   ],
   "source": [
    "# La version iterativa es practicamente instantanea, mientras que la recursiva se complica por encima de n=40\n",
    "# No obstante, esta ultima se puede mejorar sustancialemente con programacion dinamica usando memoizacion.\n",
    "# Para valores de n no muy elevados, la version memoizada es similar a la iterativa, pero esa diferencia se incrementa a medida que se incrementa n.\n",
    "\n",
    "import matplotlib.pyplot as plt\n",
    "\n",
    "# Datos\n",
    "x_0 = [\"Recursivo\", \"Iterativo\", \"Memoizado\"]\n",
    "y_1 = [tiempo_recursivo_1, tiempo_iterativo_1, tiempo_memoizado_1]\n",
    "y_2 = [tiempo_recursivo_2, tiempo_iterativo_2, tiempo_memoizado_2]\n",
    "x_1 = [\"Iterativo\", \"Memoizado\"]\n",
    "y_3 = [tiempo_iterativo_3, tiempo_memoizado_3]\n",
    "y_4 = [tiempo_iterativo_4, tiempo_memoizado_4]\n",
    "\n",
    "# Gráfico de barras\n",
    "fig, ax = plt.subplots(2, 2, figsize=(14,10) )\n",
    "ax[0][0].bar(x = x_0, height = y_1)\n",
    "ax[0][1].bar(x = x_0, height = y_2)\n",
    "ax[1][0].bar(x = x_1, height = y_3)\n",
    "ax[1][1].bar(x = x_1, height = y_4)\n",
    "ax[0][0].set_title(\"N = 20\")\n",
    "ax[0][1].set_title(\"N = 35\")\n",
    "ax[1][0].set_title(\"N = 100\")\n",
    "ax[1][1].set_title(\"N = 2000\")\n",
    "plt.show()\n"
   ]
  },
  {
   "cell_type": "markdown",
   "metadata": {
    "id": "RgT5XJsZ429L"
   },
   "source": [
    "## Devolución de cambio por técnica voraz\n",
    "\n",
    "Resuelve el [Problema del Cambio de Moneda](https://es.wikipedia.org/wiki/Problema_de_cambio_de_monedas) utilizando una técnica voraz."
   ]
  },
  {
   "cell_type": "code",
   "execution_count": 74,
   "metadata": {
    "colab": {
     "base_uri": "https://localhost:8080/"
    },
    "id": "uJtftBLU4-ap",
    "outputId": "b52f7a2c-771b-4c2e-81ab-c4c3ea01318d"
   },
   "outputs": [
    {
     "name": "stdout",
     "output_type": "stream",
     "text": [
      "Se encontro el cambio justo\n",
      "(3, 16, [10, 5, 1])\n",
      "No se encontro el cambio justo. Se debe: 1\n",
      "(4, 13, [10, 1, 1, 1])\n",
      "Se encontro el cambio justo\n",
      "(5, 15, [11, 1, 1, 1, 1])\n",
      "Se encontro el cambio justo\n",
      "(3, 15, [5, 5, 5])\n"
     ]
    }
   ],
   "source": [
    "# Problema del cambio de moneda\n",
    "def buscar_cambio(monedas, valor):\n",
    "    monedas = sorted(monedas, reverse=True)\n",
    "    acumulado = 0\n",
    "    cantidad = 0\n",
    "    usadas = []\n",
    "    for moneda in monedas:\n",
    "        if acumulado+moneda <= valor:\n",
    "            acumulado += moneda\n",
    "            cantidad += 1\n",
    "            usadas.append(moneda)\n",
    "        if acumulado == valor:\n",
    "            print(\"Se encontro el cambio justo\")\n",
    "            break\n",
    "            \n",
    "    if acumulado != valor:\n",
    "        print(\"No se encontro el cambio justo. Se debe:\", valor-acumulado)\n",
    "        \n",
    "    return cantidad, acumulado, usadas\n",
    "\n",
    "monedas = [1,5,1,10,1]\n",
    "\n",
    "print(buscar_cambio(monedas, 16))\n",
    "print(buscar_cambio(monedas, 14))\n",
    "print(buscar_cambio([11,5,5,5,1,1,1,1,1], 15))\n",
    "print(buscar_cambio([5,5,5,1,1,1,1,1], 15))\n",
    "\n"
   ]
  },
  {
   "cell_type": "markdown",
   "metadata": {
    "id": "g8M9GTvy_Fa3"
   },
   "source": [
    "## N-Reinas por técnica de vuelta atrás\n",
    "Resuelve el [Problema de las N-Reinas](https://es.wikipedia.org/wiki/Problema_de_las_ocho_reinas) en un tablero de dimensión N mediante la técnica de la vuelta atrás (backtraking)."
   ]
  },
  {
   "cell_type": "code",
   "execution_count": null,
   "metadata": {
    "id": "FqOPyCmv_K65"
   },
   "outputs": [],
   "source": [
    "# Problema de las N-Reinas\n",
    "\n",
    "\n",
    "\n",
    "\n"
   ]
  },
  {
   "cell_type": "code",
   "execution_count": null,
   "metadata": {},
   "outputs": [],
   "source": []
  }
 ],
 "metadata": {
  "colab": {
   "provenance": [],
   "toc_visible": true
  },
  "kernelspec": {
   "display_name": "Python 3 (ipykernel)",
   "language": "python",
   "name": "python3"
  },
  "language_info": {
   "codemirror_mode": {
    "name": "ipython",
    "version": 3
   },
   "file_extension": ".py",
   "mimetype": "text/x-python",
   "name": "python",
   "nbconvert_exporter": "python",
   "pygments_lexer": "ipython3",
   "version": "3.12.4"
  }
 },
 "nbformat": 4,
 "nbformat_minor": 4
}
